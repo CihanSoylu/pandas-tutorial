{
  "cells": [
    {
      "metadata": {
        "_cell_guid": "3b0b7af1-d18d-4181-bafc-be644f1d513f",
        "_uuid": "eac842d65e7badd7fe6a7fe46ea3d6763afd17c0",
        "collapsed": true,
        "trusted": true
      },
      "cell_type": "code",
      "source": "#This notebook is a tutorial on the basic functionality of the pandas library\n\nimport numpy as np # linear algebra\nimport pandas as pd # data processing, CSV file I/O (e.g. pd.read_csv)\nfrom sklearn import datasets # example datasets in sklearn library",
      "execution_count": 2,
      "outputs": []
    },
    {
      "metadata": {
        "trusted": true,
        "_uuid": "c4c1269133fa033bc39d23ea28961b51ceebc57a"
      },
      "cell_type": "code",
      "source": "#Before getting into pandas functionality we will load an example dataset from sklearn library \niris = datasets.load_iris() #load iris dataset\ntype(iris) #iris is a bunch instance which is inherited from dictionary",
      "execution_count": 26,
      "outputs": [
        {
          "data": {
            "text/plain": "sklearn.utils.Bunch"
          },
          "execution_count": 26,
          "metadata": {},
          "output_type": "execute_result"
        }
      ]
    },
    {
      "metadata": {
        "trusted": true,
        "_uuid": "5ad250f0c173cbcbcf9c32880e1268fb63539521"
      },
      "cell_type": "code",
      "source": "iris.keys() #keys of the dictionary",
      "execution_count": 20,
      "outputs": [
        {
          "data": {
            "text/plain": "dict_keys(['data', 'target', 'target_names', 'DESCR', 'feature_names'])"
          },
          "execution_count": 20,
          "metadata": {},
          "output_type": "execute_result"
        }
      ]
    },
    {
      "metadata": {
        "trusted": true,
        "_uuid": "54657e062e96087766b98fcf565f46d1a7d89f9f"
      },
      "cell_type": "code",
      "source": "#The description of the dataset. We see that the dataset has 4 features and a 3 classes.\n#There are 150 examples in the dataset\nprint(iris.DESCR) ",
      "execution_count": 23,
      "outputs": [
        {
          "name": "stdout",
          "output_type": "stream",
          "text": "Iris Plants Database\n====================\n\nNotes\n-----\nData Set Characteristics:\n    :Number of Instances: 150 (50 in each of three classes)\n    :Number of Attributes: 4 numeric, predictive attributes and the class\n    :Attribute Information:\n        - sepal length in cm\n        - sepal width in cm\n        - petal length in cm\n        - petal width in cm\n        - class:\n                - Iris-Setosa\n                - Iris-Versicolour\n                - Iris-Virginica\n    :Summary Statistics:\n\n    ============== ==== ==== ======= ===== ====================\n                    Min  Max   Mean    SD   Class Correlation\n    ============== ==== ==== ======= ===== ====================\n    sepal length:   4.3  7.9   5.84   0.83    0.7826\n    sepal width:    2.0  4.4   3.05   0.43   -0.4194\n    petal length:   1.0  6.9   3.76   1.76    0.9490  (high!)\n    petal width:    0.1  2.5   1.20  0.76     0.9565  (high!)\n    ============== ==== ==== ======= ===== ====================\n\n    :Missing Attribute Values: None\n    :Class Distribution: 33.3% for each of 3 classes.\n    :Creator: R.A. Fisher\n    :Donor: Michael Marshall (MARSHALL%PLU@io.arc.nasa.gov)\n    :Date: July, 1988\n\nThis is a copy of UCI ML iris datasets.\nhttp://archive.ics.uci.edu/ml/datasets/Iris\n\nThe famous Iris database, first used by Sir R.A Fisher\n\nThis is perhaps the best known database to be found in the\npattern recognition literature.  Fisher's paper is a classic in the field and\nis referenced frequently to this day.  (See Duda & Hart, for example.)  The\ndata set contains 3 classes of 50 instances each, where each class refers to a\ntype of iris plant.  One class is linearly separable from the other 2; the\nlatter are NOT linearly separable from each other.\n\nReferences\n----------\n   - Fisher,R.A. \"The use of multiple measurements in taxonomic problems\"\n     Annual Eugenics, 7, Part II, 179-188 (1936); also in \"Contributions to\n     Mathematical Statistics\" (John Wiley, NY, 1950).\n   - Duda,R.O., & Hart,P.E. (1973) Pattern Classification and Scene Analysis.\n     (Q327.D83) John Wiley & Sons.  ISBN 0-471-22361-1.  See page 218.\n   - Dasarathy, B.V. (1980) \"Nosing Around the Neighborhood: A New System\n     Structure and Classification Rule for Recognition in Partially Exposed\n     Environments\".  IEEE Transactions on Pattern Analysis and Machine\n     Intelligence, Vol. PAMI-2, No. 1, 67-71.\n   - Gates, G.W. (1972) \"The Reduced Nearest Neighbor Rule\".  IEEE Transactions\n     on Information Theory, May 1972, 431-433.\n   - See also: 1988 MLC Proceedings, 54-64.  Cheeseman et al\"s AUTOCLASS II\n     conceptual clustering system finds 3 classes in the data.\n   - Many, many more ...\n\n"
        }
      ]
    },
    {
      "metadata": {
        "trusted": true,
        "_uuid": "9165efc923900342f2198f6fc69f93b2f70c821f"
      },
      "cell_type": "code",
      "source": "#The feature values are stored under the key 'data' and it is an np.array\ntype(iris.data)",
      "execution_count": 25,
      "outputs": [
        {
          "data": {
            "text/plain": "numpy.ndarray"
          },
          "execution_count": 25,
          "metadata": {},
          "output_type": "execute_result"
        }
      ]
    },
    {
      "metadata": {
        "trusted": true,
        "_uuid": "c5de951ae88f34110c4d06f801bf8f5ae4f6808b"
      },
      "cell_type": "code",
      "source": "#each row of this array correspond to an example data point and each column corresponds to a feature\nprint(iris.data)",
      "execution_count": 29,
      "outputs": [
        {
          "name": "stdout",
          "output_type": "stream",
          "text": "[[ 5.1  3.5  1.4  0.2]\n [ 4.9  3.   1.4  0.2]\n [ 4.7  3.2  1.3  0.2]\n [ 4.6  3.1  1.5  0.2]\n [ 5.   3.6  1.4  0.2]\n [ 5.4  3.9  1.7  0.4]\n [ 4.6  3.4  1.4  0.3]\n [ 5.   3.4  1.5  0.2]\n [ 4.4  2.9  1.4  0.2]\n [ 4.9  3.1  1.5  0.1]\n [ 5.4  3.7  1.5  0.2]\n [ 4.8  3.4  1.6  0.2]\n [ 4.8  3.   1.4  0.1]\n [ 4.3  3.   1.1  0.1]\n [ 5.8  4.   1.2  0.2]\n [ 5.7  4.4  1.5  0.4]\n [ 5.4  3.9  1.3  0.4]\n [ 5.1  3.5  1.4  0.3]\n [ 5.7  3.8  1.7  0.3]\n [ 5.1  3.8  1.5  0.3]\n [ 5.4  3.4  1.7  0.2]\n [ 5.1  3.7  1.5  0.4]\n [ 4.6  3.6  1.   0.2]\n [ 5.1  3.3  1.7  0.5]\n [ 4.8  3.4  1.9  0.2]\n [ 5.   3.   1.6  0.2]\n [ 5.   3.4  1.6  0.4]\n [ 5.2  3.5  1.5  0.2]\n [ 5.2  3.4  1.4  0.2]\n [ 4.7  3.2  1.6  0.2]\n [ 4.8  3.1  1.6  0.2]\n [ 5.4  3.4  1.5  0.4]\n [ 5.2  4.1  1.5  0.1]\n [ 5.5  4.2  1.4  0.2]\n [ 4.9  3.1  1.5  0.1]\n [ 5.   3.2  1.2  0.2]\n [ 5.5  3.5  1.3  0.2]\n [ 4.9  3.1  1.5  0.1]\n [ 4.4  3.   1.3  0.2]\n [ 5.1  3.4  1.5  0.2]\n [ 5.   3.5  1.3  0.3]\n [ 4.5  2.3  1.3  0.3]\n [ 4.4  3.2  1.3  0.2]\n [ 5.   3.5  1.6  0.6]\n [ 5.1  3.8  1.9  0.4]\n [ 4.8  3.   1.4  0.3]\n [ 5.1  3.8  1.6  0.2]\n [ 4.6  3.2  1.4  0.2]\n [ 5.3  3.7  1.5  0.2]\n [ 5.   3.3  1.4  0.2]\n [ 7.   3.2  4.7  1.4]\n [ 6.4  3.2  4.5  1.5]\n [ 6.9  3.1  4.9  1.5]\n [ 5.5  2.3  4.   1.3]\n [ 6.5  2.8  4.6  1.5]\n [ 5.7  2.8  4.5  1.3]\n [ 6.3  3.3  4.7  1.6]\n [ 4.9  2.4  3.3  1. ]\n [ 6.6  2.9  4.6  1.3]\n [ 5.2  2.7  3.9  1.4]\n [ 5.   2.   3.5  1. ]\n [ 5.9  3.   4.2  1.5]\n [ 6.   2.2  4.   1. ]\n [ 6.1  2.9  4.7  1.4]\n [ 5.6  2.9  3.6  1.3]\n [ 6.7  3.1  4.4  1.4]\n [ 5.6  3.   4.5  1.5]\n [ 5.8  2.7  4.1  1. ]\n [ 6.2  2.2  4.5  1.5]\n [ 5.6  2.5  3.9  1.1]\n [ 5.9  3.2  4.8  1.8]\n [ 6.1  2.8  4.   1.3]\n [ 6.3  2.5  4.9  1.5]\n [ 6.1  2.8  4.7  1.2]\n [ 6.4  2.9  4.3  1.3]\n [ 6.6  3.   4.4  1.4]\n [ 6.8  2.8  4.8  1.4]\n [ 6.7  3.   5.   1.7]\n [ 6.   2.9  4.5  1.5]\n [ 5.7  2.6  3.5  1. ]\n [ 5.5  2.4  3.8  1.1]\n [ 5.5  2.4  3.7  1. ]\n [ 5.8  2.7  3.9  1.2]\n [ 6.   2.7  5.1  1.6]\n [ 5.4  3.   4.5  1.5]\n [ 6.   3.4  4.5  1.6]\n [ 6.7  3.1  4.7  1.5]\n [ 6.3  2.3  4.4  1.3]\n [ 5.6  3.   4.1  1.3]\n [ 5.5  2.5  4.   1.3]\n [ 5.5  2.6  4.4  1.2]\n [ 6.1  3.   4.6  1.4]\n [ 5.8  2.6  4.   1.2]\n [ 5.   2.3  3.3  1. ]\n [ 5.6  2.7  4.2  1.3]\n [ 5.7  3.   4.2  1.2]\n [ 5.7  2.9  4.2  1.3]\n [ 6.2  2.9  4.3  1.3]\n [ 5.1  2.5  3.   1.1]\n [ 5.7  2.8  4.1  1.3]\n [ 6.3  3.3  6.   2.5]\n [ 5.8  2.7  5.1  1.9]\n [ 7.1  3.   5.9  2.1]\n [ 6.3  2.9  5.6  1.8]\n [ 6.5  3.   5.8  2.2]\n [ 7.6  3.   6.6  2.1]\n [ 4.9  2.5  4.5  1.7]\n [ 7.3  2.9  6.3  1.8]\n [ 6.7  2.5  5.8  1.8]\n [ 7.2  3.6  6.1  2.5]\n [ 6.5  3.2  5.1  2. ]\n [ 6.4  2.7  5.3  1.9]\n [ 6.8  3.   5.5  2.1]\n [ 5.7  2.5  5.   2. ]\n [ 5.8  2.8  5.1  2.4]\n [ 6.4  3.2  5.3  2.3]\n [ 6.5  3.   5.5  1.8]\n [ 7.7  3.8  6.7  2.2]\n [ 7.7  2.6  6.9  2.3]\n [ 6.   2.2  5.   1.5]\n [ 6.9  3.2  5.7  2.3]\n [ 5.6  2.8  4.9  2. ]\n [ 7.7  2.8  6.7  2. ]\n [ 6.3  2.7  4.9  1.8]\n [ 6.7  3.3  5.7  2.1]\n [ 7.2  3.2  6.   1.8]\n [ 6.2  2.8  4.8  1.8]\n [ 6.1  3.   4.9  1.8]\n [ 6.4  2.8  5.6  2.1]\n [ 7.2  3.   5.8  1.6]\n [ 7.4  2.8  6.1  1.9]\n [ 7.9  3.8  6.4  2. ]\n [ 6.4  2.8  5.6  2.2]\n [ 6.3  2.8  5.1  1.5]\n [ 6.1  2.6  5.6  1.4]\n [ 7.7  3.   6.1  2.3]\n [ 6.3  3.4  5.6  2.4]\n [ 6.4  3.1  5.5  1.8]\n [ 6.   3.   4.8  1.8]\n [ 6.9  3.1  5.4  2.1]\n [ 6.7  3.1  5.6  2.4]\n [ 6.9  3.1  5.1  2.3]\n [ 5.8  2.7  5.1  1.9]\n [ 6.8  3.2  5.9  2.3]\n [ 6.7  3.3  5.7  2.5]\n [ 6.7  3.   5.2  2.3]\n [ 6.3  2.5  5.   1.9]\n [ 6.5  3.   5.2  2. ]\n [ 6.2  3.4  5.4  2.3]\n [ 5.9  3.   5.1  1.8]]\n"
        }
      ]
    },
    {
      "metadata": {
        "trusted": true,
        "_uuid": "0af3360d7b20a974ff2b73fc3b905940e051c5c8"
      },
      "cell_type": "code",
      "source": "#The feature name corresponding to each column is stored in 'feature_names'\nprint(iris.feature_names)",
      "execution_count": 33,
      "outputs": [
        {
          "name": "stdout",
          "output_type": "stream",
          "text": "['sepal length (cm)', 'sepal width (cm)', 'petal length (cm)', 'petal width (cm)']\n"
        }
      ]
    },
    {
      "metadata": {
        "trusted": true,
        "_uuid": "9d64f5dba68c32b9d3072088e524d8f4716b21cd"
      },
      "cell_type": "code",
      "source": "#The classes of each data point is stored in the 'target' key\nprint(iris.target)",
      "execution_count": 30,
      "outputs": [
        {
          "name": "stdout",
          "output_type": "stream",
          "text": "[0 0 0 0 0 0 0 0 0 0 0 0 0 0 0 0 0 0 0 0 0 0 0 0 0 0 0 0 0 0 0 0 0 0 0 0 0\n 0 0 0 0 0 0 0 0 0 0 0 0 0 1 1 1 1 1 1 1 1 1 1 1 1 1 1 1 1 1 1 1 1 1 1 1 1\n 1 1 1 1 1 1 1 1 1 1 1 1 1 1 1 1 1 1 1 1 1 1 1 1 1 1 2 2 2 2 2 2 2 2 2 2 2\n 2 2 2 2 2 2 2 2 2 2 2 2 2 2 2 2 2 2 2 2 2 2 2 2 2 2 2 2 2 2 2 2 2 2 2 2 2\n 2 2]\n"
        }
      ]
    },
    {
      "metadata": {
        "trusted": true,
        "_uuid": "5ef89e17eea37a1d034641a23fde2d3456cfda35"
      },
      "cell_type": "code",
      "source": "#The name of the classes corresponding to 0,1,2 can be found in\nprint(iris.target_names)",
      "execution_count": 32,
      "outputs": [
        {
          "name": "stdout",
          "output_type": "stream",
          "text": "['setosa' 'versicolor' 'virginica']\n"
        }
      ]
    },
    {
      "metadata": {
        "trusted": true,
        "_uuid": "319020ac169b49d7e529172c11cc7235e019ba7a"
      },
      "cell_type": "code",
      "source": "#Now we are ready to create a pandas dataframe using the iris dataset\n#We will do this in two different ways:\n# 1-Creating a dataframe from an np.array\n# 2-Creating a dataframe from a .csv file\n\n# 1- To create a dataframe from an np.array simply call pd.DataFrame(array) \niris_dataframe = pd.DataFrame(iris.data)\niris_dataframe.head() #first five data points",
      "execution_count": 42,
      "outputs": [
        {
          "data": {
            "text/html": "<div>\n<style>\n    .dataframe thead tr:only-child th {\n        text-align: right;\n    }\n\n    .dataframe thead th {\n        text-align: left;\n    }\n\n    .dataframe tbody tr th {\n        vertical-align: top;\n    }\n</style>\n<table border=\"1\" class=\"dataframe\">\n  <thead>\n    <tr style=\"text-align: right;\">\n      <th></th>\n      <th>0</th>\n      <th>1</th>\n      <th>2</th>\n      <th>3</th>\n    </tr>\n  </thead>\n  <tbody>\n    <tr>\n      <th>0</th>\n      <td>5.1</td>\n      <td>3.5</td>\n      <td>1.4</td>\n      <td>0.2</td>\n    </tr>\n    <tr>\n      <th>1</th>\n      <td>4.9</td>\n      <td>3.0</td>\n      <td>1.4</td>\n      <td>0.2</td>\n    </tr>\n    <tr>\n      <th>2</th>\n      <td>4.7</td>\n      <td>3.2</td>\n      <td>1.3</td>\n      <td>0.2</td>\n    </tr>\n    <tr>\n      <th>3</th>\n      <td>4.6</td>\n      <td>3.1</td>\n      <td>1.5</td>\n      <td>0.2</td>\n    </tr>\n    <tr>\n      <th>4</th>\n      <td>5.0</td>\n      <td>3.6</td>\n      <td>1.4</td>\n      <td>0.2</td>\n    </tr>\n  </tbody>\n</table>\n</div>",
            "text/plain": "     0    1    2    3\n0  5.1  3.5  1.4  0.2\n1  4.9  3.0  1.4  0.2\n2  4.7  3.2  1.3  0.2\n3  4.6  3.1  1.5  0.2\n4  5.0  3.6  1.4  0.2"
          },
          "execution_count": 42,
          "metadata": {},
          "output_type": "execute_result"
        }
      ]
    },
    {
      "metadata": {
        "trusted": true,
        "_uuid": "1df0acd791b69c76abb385d53a04ad1f1cb3b44d"
      },
      "cell_type": "code",
      "source": "#As you see above the feature names are set as 0,1,2,3. We can change them as follows\niris_dataframe.columns = iris.feature_names\n# we could also do this when we are creating the data frame as follows\n#iris_dataframe = pd.DataFrame(iris.data, columns = iris.feature_names)\niris_dataframe.head()",
      "execution_count": 49,
      "outputs": [
        {
          "data": {
            "text/html": "<div>\n<style>\n    .dataframe thead tr:only-child th {\n        text-align: right;\n    }\n\n    .dataframe thead th {\n        text-align: left;\n    }\n\n    .dataframe tbody tr th {\n        vertical-align: top;\n    }\n</style>\n<table border=\"1\" class=\"dataframe\">\n  <thead>\n    <tr style=\"text-align: right;\">\n      <th></th>\n      <th>sepal length (cm)</th>\n      <th>sepal width (cm)</th>\n      <th>petal length (cm)</th>\n      <th>petal width (cm)</th>\n    </tr>\n  </thead>\n  <tbody>\n    <tr>\n      <th>0</th>\n      <td>5.1</td>\n      <td>3.5</td>\n      <td>1.4</td>\n      <td>0.2</td>\n    </tr>\n    <tr>\n      <th>1</th>\n      <td>4.9</td>\n      <td>3.0</td>\n      <td>1.4</td>\n      <td>0.2</td>\n    </tr>\n    <tr>\n      <th>2</th>\n      <td>4.7</td>\n      <td>3.2</td>\n      <td>1.3</td>\n      <td>0.2</td>\n    </tr>\n    <tr>\n      <th>3</th>\n      <td>4.6</td>\n      <td>3.1</td>\n      <td>1.5</td>\n      <td>0.2</td>\n    </tr>\n    <tr>\n      <th>4</th>\n      <td>5.0</td>\n      <td>3.6</td>\n      <td>1.4</td>\n      <td>0.2</td>\n    </tr>\n  </tbody>\n</table>\n</div>",
            "text/plain": "   sepal length (cm)  sepal width (cm)  petal length (cm)  petal width (cm)\n0                5.1               3.5                1.4               0.2\n1                4.9               3.0                1.4               0.2\n2                4.7               3.2                1.3               0.2\n3                4.6               3.1                1.5               0.2\n4                5.0               3.6                1.4               0.2"
          },
          "execution_count": 49,
          "metadata": {},
          "output_type": "execute_result"
        }
      ]
    },
    {
      "metadata": {
        "trusted": true,
        "_uuid": "e190bebe940b40cf2decfe561d2b82b92da4686f"
      },
      "cell_type": "code",
      "source": "# Now we want to add the classes of each data point as a new column:\niris_dataframe['target'] = iris.target\niris_dataframe.head()",
      "execution_count": 52,
      "outputs": [
        {
          "data": {
            "text/html": "<div>\n<style>\n    .dataframe thead tr:only-child th {\n        text-align: right;\n    }\n\n    .dataframe thead th {\n        text-align: left;\n    }\n\n    .dataframe tbody tr th {\n        vertical-align: top;\n    }\n</style>\n<table border=\"1\" class=\"dataframe\">\n  <thead>\n    <tr style=\"text-align: right;\">\n      <th></th>\n      <th>sepal length (cm)</th>\n      <th>sepal width (cm)</th>\n      <th>petal length (cm)</th>\n      <th>petal width (cm)</th>\n      <th>target</th>\n    </tr>\n  </thead>\n  <tbody>\n    <tr>\n      <th>0</th>\n      <td>5.1</td>\n      <td>3.5</td>\n      <td>1.4</td>\n      <td>0.2</td>\n      <td>0</td>\n    </tr>\n    <tr>\n      <th>1</th>\n      <td>4.9</td>\n      <td>3.0</td>\n      <td>1.4</td>\n      <td>0.2</td>\n      <td>0</td>\n    </tr>\n    <tr>\n      <th>2</th>\n      <td>4.7</td>\n      <td>3.2</td>\n      <td>1.3</td>\n      <td>0.2</td>\n      <td>0</td>\n    </tr>\n    <tr>\n      <th>3</th>\n      <td>4.6</td>\n      <td>3.1</td>\n      <td>1.5</td>\n      <td>0.2</td>\n      <td>0</td>\n    </tr>\n    <tr>\n      <th>4</th>\n      <td>5.0</td>\n      <td>3.6</td>\n      <td>1.4</td>\n      <td>0.2</td>\n      <td>0</td>\n    </tr>\n  </tbody>\n</table>\n</div>",
            "text/plain": "   sepal length (cm)  sepal width (cm)  petal length (cm)  petal width (cm)  \\\n0                5.1               3.5                1.4               0.2   \n1                4.9               3.0                1.4               0.2   \n2                4.7               3.2                1.3               0.2   \n3                4.6               3.1                1.5               0.2   \n4                5.0               3.6                1.4               0.2   \n\n   target  \n0       0  \n1       0  \n2       0  \n3       0  \n4       0  "
          },
          "execution_count": 52,
          "metadata": {},
          "output_type": "execute_result"
        }
      ]
    },
    {
      "metadata": {
        "scrolled": true,
        "trusted": true,
        "_uuid": "1c2996156e3d4509e52784c0ca74ace80ca8af11"
      },
      "cell_type": "code",
      "source": "# You can get a column of a dataframe by using the dot notation\niris_dataframe['sepal length (cm)']",
      "execution_count": 56,
      "outputs": [
        {
          "data": {
            "text/plain": "0      5.1\n1      4.9\n2      4.7\n3      4.6\n4      5.0\n5      5.4\n6      4.6\n7      5.0\n8      4.4\n9      4.9\n10     5.4\n11     4.8\n12     4.8\n13     4.3\n14     5.8\n15     5.7\n16     5.4\n17     5.1\n18     5.7\n19     5.1\n20     5.4\n21     5.1\n22     4.6\n23     5.1\n24     4.8\n25     5.0\n26     5.0\n27     5.2\n28     5.2\n29     4.7\n      ... \n120    6.9\n121    5.6\n122    7.7\n123    6.3\n124    6.7\n125    7.2\n126    6.2\n127    6.1\n128    6.4\n129    7.2\n130    7.4\n131    7.9\n132    6.4\n133    6.3\n134    6.1\n135    7.7\n136    6.3\n137    6.4\n138    6.0\n139    6.9\n140    6.7\n141    6.9\n142    5.8\n143    6.8\n144    6.7\n145    6.7\n146    6.3\n147    6.5\n148    6.2\n149    5.9\nName: sepal length (cm), Length: 150, dtype: float64"
          },
          "execution_count": 56,
          "metadata": {},
          "output_type": "execute_result"
        }
      ]
    },
    {
      "metadata": {
        "trusted": true,
        "collapsed": true,
        "_uuid": "2caa1a8059825a0815cdae1e539eea999459681d"
      },
      "cell_type": "code",
      "source": "#Another way to create a data frame is reading from a .csv file. For this we first export the\n#dataframe we created to a .csv file and then create a new data frame by reading the same file.\n#We will use to_csv function. Setting the index and header parameters to False prevent the \n#index and header written on file.\niris_dataframe.to_csv('iris.csv', index=False, header = False)",
      "execution_count": 61,
      "outputs": []
    },
    {
      "metadata": {
        "trusted": true,
        "_uuid": "14b6d2142f6457cd75d85c72e9da3cea8059a1c0"
      },
      "cell_type": "code",
      "source": "ls",
      "execution_count": 62,
      "outputs": [
        {
          "name": "stdout",
          "output_type": "stream",
          "text": "__notebook_source__.ipynb  iris.csv\r\n"
        }
      ]
    },
    {
      "metadata": {
        "trusted": true,
        "_uuid": "bd6ce3f9c5741fbb2a5e0c3c1027fd8dca5a4462"
      },
      "cell_type": "code",
      "source": "#Now we will create a new data frame using read_csv() function. We will pass the path of the file\n#to this function together with the names parameter. See the documentation for details.\ncolumns = ['sepal length', 'sepal width', 'petal length', 'petal width', 'class']\niris_dataframe_new = pd.read_csv('iris.csv', names = ['sepal length', 'sepal width', 'petal length', 'petal width', 'class'])\niris_dataframe_new.head()",
      "execution_count": 66,
      "outputs": [
        {
          "data": {
            "text/html": "<div>\n<style>\n    .dataframe thead tr:only-child th {\n        text-align: right;\n    }\n\n    .dataframe thead th {\n        text-align: left;\n    }\n\n    .dataframe tbody tr th {\n        vertical-align: top;\n    }\n</style>\n<table border=\"1\" class=\"dataframe\">\n  <thead>\n    <tr style=\"text-align: right;\">\n      <th></th>\n      <th>sepal length</th>\n      <th>sepal width</th>\n      <th>petal length</th>\n      <th>petal width</th>\n      <th>class</th>\n    </tr>\n  </thead>\n  <tbody>\n    <tr>\n      <th>0</th>\n      <td>5.1</td>\n      <td>3.5</td>\n      <td>1.4</td>\n      <td>0.2</td>\n      <td>0</td>\n    </tr>\n    <tr>\n      <th>1</th>\n      <td>4.9</td>\n      <td>3.0</td>\n      <td>1.4</td>\n      <td>0.2</td>\n      <td>0</td>\n    </tr>\n    <tr>\n      <th>2</th>\n      <td>4.7</td>\n      <td>3.2</td>\n      <td>1.3</td>\n      <td>0.2</td>\n      <td>0</td>\n    </tr>\n    <tr>\n      <th>3</th>\n      <td>4.6</td>\n      <td>3.1</td>\n      <td>1.5</td>\n      <td>0.2</td>\n      <td>0</td>\n    </tr>\n    <tr>\n      <th>4</th>\n      <td>5.0</td>\n      <td>3.6</td>\n      <td>1.4</td>\n      <td>0.2</td>\n      <td>0</td>\n    </tr>\n  </tbody>\n</table>\n</div>",
            "text/plain": "   sepal length  sepal width  petal length  petal width  class\n0           5.1          3.5           1.4          0.2      0\n1           4.9          3.0           1.4          0.2      0\n2           4.7          3.2           1.3          0.2      0\n3           4.6          3.1           1.5          0.2      0\n4           5.0          3.6           1.4          0.2      0"
          },
          "execution_count": 66,
          "metadata": {},
          "output_type": "execute_result"
        }
      ]
    },
    {
      "metadata": {
        "trusted": true,
        "_uuid": "ce1342f435d2a0bdc1bbaaef5d6a11cee5819566"
      },
      "cell_type": "code",
      "source": "iris_dataframe_new.index",
      "execution_count": 71,
      "outputs": [
        {
          "data": {
            "text/plain": "RangeIndex(start=0, stop=150, step=1)"
          },
          "execution_count": 71,
          "metadata": {},
          "output_type": "execute_result"
        }
      ]
    },
    {
      "metadata": {
        "trusted": true,
        "_uuid": "9edce2e2d4d732b6399e6e203c35995e09c6d620"
      },
      "cell_type": "code",
      "source": "iris_dataframe_new.columns",
      "execution_count": 72,
      "outputs": [
        {
          "data": {
            "text/plain": "Index(['sepal length', 'sepal width', 'petal length', 'petal width', 'class'], dtype='object')"
          },
          "execution_count": 72,
          "metadata": {},
          "output_type": "execute_result"
        }
      ]
    },
    {
      "metadata": {
        "trusted": true,
        "_uuid": "fc31179ad3ab296c0864ab27bc8fbaccbd85b499"
      },
      "cell_type": "code",
      "source": "#you can sort the data according to a particular column\niris_dataframe_new.sort_values(by = 'sepal width')",
      "execution_count": 77,
      "outputs": [
        {
          "data": {
            "text/html": "<div>\n<style>\n    .dataframe thead tr:only-child th {\n        text-align: right;\n    }\n\n    .dataframe thead th {\n        text-align: left;\n    }\n\n    .dataframe tbody tr th {\n        vertical-align: top;\n    }\n</style>\n<table border=\"1\" class=\"dataframe\">\n  <thead>\n    <tr style=\"text-align: right;\">\n      <th></th>\n      <th>sepal length</th>\n      <th>sepal width</th>\n      <th>petal length</th>\n      <th>petal width</th>\n      <th>class</th>\n    </tr>\n  </thead>\n  <tbody>\n    <tr>\n      <th>60</th>\n      <td>5.0</td>\n      <td>2.0</td>\n      <td>3.5</td>\n      <td>1.0</td>\n      <td>1</td>\n    </tr>\n    <tr>\n      <th>62</th>\n      <td>6.0</td>\n      <td>2.2</td>\n      <td>4.0</td>\n      <td>1.0</td>\n      <td>1</td>\n    </tr>\n    <tr>\n      <th>119</th>\n      <td>6.0</td>\n      <td>2.2</td>\n      <td>5.0</td>\n      <td>1.5</td>\n      <td>2</td>\n    </tr>\n    <tr>\n      <th>68</th>\n      <td>6.2</td>\n      <td>2.2</td>\n      <td>4.5</td>\n      <td>1.5</td>\n      <td>1</td>\n    </tr>\n    <tr>\n      <th>41</th>\n      <td>4.5</td>\n      <td>2.3</td>\n      <td>1.3</td>\n      <td>0.3</td>\n      <td>0</td>\n    </tr>\n    <tr>\n      <th>53</th>\n      <td>5.5</td>\n      <td>2.3</td>\n      <td>4.0</td>\n      <td>1.3</td>\n      <td>1</td>\n    </tr>\n    <tr>\n      <th>93</th>\n      <td>5.0</td>\n      <td>2.3</td>\n      <td>3.3</td>\n      <td>1.0</td>\n      <td>1</td>\n    </tr>\n    <tr>\n      <th>87</th>\n      <td>6.3</td>\n      <td>2.3</td>\n      <td>4.4</td>\n      <td>1.3</td>\n      <td>1</td>\n    </tr>\n    <tr>\n      <th>81</th>\n      <td>5.5</td>\n      <td>2.4</td>\n      <td>3.7</td>\n      <td>1.0</td>\n      <td>1</td>\n    </tr>\n    <tr>\n      <th>80</th>\n      <td>5.5</td>\n      <td>2.4</td>\n      <td>3.8</td>\n      <td>1.1</td>\n      <td>1</td>\n    </tr>\n    <tr>\n      <th>57</th>\n      <td>4.9</td>\n      <td>2.4</td>\n      <td>3.3</td>\n      <td>1.0</td>\n      <td>1</td>\n    </tr>\n    <tr>\n      <th>72</th>\n      <td>6.3</td>\n      <td>2.5</td>\n      <td>4.9</td>\n      <td>1.5</td>\n      <td>1</td>\n    </tr>\n    <tr>\n      <th>146</th>\n      <td>6.3</td>\n      <td>2.5</td>\n      <td>5.0</td>\n      <td>1.9</td>\n      <td>2</td>\n    </tr>\n    <tr>\n      <th>98</th>\n      <td>5.1</td>\n      <td>2.5</td>\n      <td>3.0</td>\n      <td>1.1</td>\n      <td>1</td>\n    </tr>\n    <tr>\n      <th>113</th>\n      <td>5.7</td>\n      <td>2.5</td>\n      <td>5.0</td>\n      <td>2.0</td>\n      <td>2</td>\n    </tr>\n    <tr>\n      <th>108</th>\n      <td>6.7</td>\n      <td>2.5</td>\n      <td>5.8</td>\n      <td>1.8</td>\n      <td>2</td>\n    </tr>\n    <tr>\n      <th>69</th>\n      <td>5.6</td>\n      <td>2.5</td>\n      <td>3.9</td>\n      <td>1.1</td>\n      <td>1</td>\n    </tr>\n    <tr>\n      <th>89</th>\n      <td>5.5</td>\n      <td>2.5</td>\n      <td>4.0</td>\n      <td>1.3</td>\n      <td>1</td>\n    </tr>\n    <tr>\n      <th>106</th>\n      <td>4.9</td>\n      <td>2.5</td>\n      <td>4.5</td>\n      <td>1.7</td>\n      <td>2</td>\n    </tr>\n    <tr>\n      <th>92</th>\n      <td>5.8</td>\n      <td>2.6</td>\n      <td>4.0</td>\n      <td>1.2</td>\n      <td>1</td>\n    </tr>\n    <tr>\n      <th>79</th>\n      <td>5.7</td>\n      <td>2.6</td>\n      <td>3.5</td>\n      <td>1.0</td>\n      <td>1</td>\n    </tr>\n    <tr>\n      <th>90</th>\n      <td>5.5</td>\n      <td>2.6</td>\n      <td>4.4</td>\n      <td>1.2</td>\n      <td>1</td>\n    </tr>\n    <tr>\n      <th>118</th>\n      <td>7.7</td>\n      <td>2.6</td>\n      <td>6.9</td>\n      <td>2.3</td>\n      <td>2</td>\n    </tr>\n    <tr>\n      <th>134</th>\n      <td>6.1</td>\n      <td>2.6</td>\n      <td>5.6</td>\n      <td>1.4</td>\n      <td>2</td>\n    </tr>\n    <tr>\n      <th>101</th>\n      <td>5.8</td>\n      <td>2.7</td>\n      <td>5.1</td>\n      <td>1.9</td>\n      <td>2</td>\n    </tr>\n    <tr>\n      <th>94</th>\n      <td>5.6</td>\n      <td>2.7</td>\n      <td>4.2</td>\n      <td>1.3</td>\n      <td>1</td>\n    </tr>\n    <tr>\n      <th>59</th>\n      <td>5.2</td>\n      <td>2.7</td>\n      <td>3.9</td>\n      <td>1.4</td>\n      <td>1</td>\n    </tr>\n    <tr>\n      <th>111</th>\n      <td>6.4</td>\n      <td>2.7</td>\n      <td>5.3</td>\n      <td>1.9</td>\n      <td>2</td>\n    </tr>\n    <tr>\n      <th>82</th>\n      <td>5.8</td>\n      <td>2.7</td>\n      <td>3.9</td>\n      <td>1.2</td>\n      <td>1</td>\n    </tr>\n    <tr>\n      <th>67</th>\n      <td>5.8</td>\n      <td>2.7</td>\n      <td>4.1</td>\n      <td>1.0</td>\n      <td>1</td>\n    </tr>\n    <tr>\n      <th>...</th>\n      <td>...</td>\n      <td>...</td>\n      <td>...</td>\n      <td>...</td>\n      <td>...</td>\n    </tr>\n    <tr>\n      <th>85</th>\n      <td>6.0</td>\n      <td>3.4</td>\n      <td>4.5</td>\n      <td>1.6</td>\n      <td>1</td>\n    </tr>\n    <tr>\n      <th>39</th>\n      <td>5.1</td>\n      <td>3.4</td>\n      <td>1.5</td>\n      <td>0.2</td>\n      <td>0</td>\n    </tr>\n    <tr>\n      <th>31</th>\n      <td>5.4</td>\n      <td>3.4</td>\n      <td>1.5</td>\n      <td>0.4</td>\n      <td>0</td>\n    </tr>\n    <tr>\n      <th>20</th>\n      <td>5.4</td>\n      <td>3.4</td>\n      <td>1.7</td>\n      <td>0.2</td>\n      <td>0</td>\n    </tr>\n    <tr>\n      <th>148</th>\n      <td>6.2</td>\n      <td>3.4</td>\n      <td>5.4</td>\n      <td>2.3</td>\n      <td>2</td>\n    </tr>\n    <tr>\n      <th>26</th>\n      <td>5.0</td>\n      <td>3.4</td>\n      <td>1.6</td>\n      <td>0.4</td>\n      <td>0</td>\n    </tr>\n    <tr>\n      <th>43</th>\n      <td>5.0</td>\n      <td>3.5</td>\n      <td>1.6</td>\n      <td>0.6</td>\n      <td>0</td>\n    </tr>\n    <tr>\n      <th>40</th>\n      <td>5.0</td>\n      <td>3.5</td>\n      <td>1.3</td>\n      <td>0.3</td>\n      <td>0</td>\n    </tr>\n    <tr>\n      <th>36</th>\n      <td>5.5</td>\n      <td>3.5</td>\n      <td>1.3</td>\n      <td>0.2</td>\n      <td>0</td>\n    </tr>\n    <tr>\n      <th>27</th>\n      <td>5.2</td>\n      <td>3.5</td>\n      <td>1.5</td>\n      <td>0.2</td>\n      <td>0</td>\n    </tr>\n    <tr>\n      <th>0</th>\n      <td>5.1</td>\n      <td>3.5</td>\n      <td>1.4</td>\n      <td>0.2</td>\n      <td>0</td>\n    </tr>\n    <tr>\n      <th>17</th>\n      <td>5.1</td>\n      <td>3.5</td>\n      <td>1.4</td>\n      <td>0.3</td>\n      <td>0</td>\n    </tr>\n    <tr>\n      <th>22</th>\n      <td>4.6</td>\n      <td>3.6</td>\n      <td>1.0</td>\n      <td>0.2</td>\n      <td>0</td>\n    </tr>\n    <tr>\n      <th>109</th>\n      <td>7.2</td>\n      <td>3.6</td>\n      <td>6.1</td>\n      <td>2.5</td>\n      <td>2</td>\n    </tr>\n    <tr>\n      <th>4</th>\n      <td>5.0</td>\n      <td>3.6</td>\n      <td>1.4</td>\n      <td>0.2</td>\n      <td>0</td>\n    </tr>\n    <tr>\n      <th>10</th>\n      <td>5.4</td>\n      <td>3.7</td>\n      <td>1.5</td>\n      <td>0.2</td>\n      <td>0</td>\n    </tr>\n    <tr>\n      <th>48</th>\n      <td>5.3</td>\n      <td>3.7</td>\n      <td>1.5</td>\n      <td>0.2</td>\n      <td>0</td>\n    </tr>\n    <tr>\n      <th>21</th>\n      <td>5.1</td>\n      <td>3.7</td>\n      <td>1.5</td>\n      <td>0.4</td>\n      <td>0</td>\n    </tr>\n    <tr>\n      <th>131</th>\n      <td>7.9</td>\n      <td>3.8</td>\n      <td>6.4</td>\n      <td>2.0</td>\n      <td>2</td>\n    </tr>\n    <tr>\n      <th>117</th>\n      <td>7.7</td>\n      <td>3.8</td>\n      <td>6.7</td>\n      <td>2.2</td>\n      <td>2</td>\n    </tr>\n    <tr>\n      <th>46</th>\n      <td>5.1</td>\n      <td>3.8</td>\n      <td>1.6</td>\n      <td>0.2</td>\n      <td>0</td>\n    </tr>\n    <tr>\n      <th>44</th>\n      <td>5.1</td>\n      <td>3.8</td>\n      <td>1.9</td>\n      <td>0.4</td>\n      <td>0</td>\n    </tr>\n    <tr>\n      <th>18</th>\n      <td>5.7</td>\n      <td>3.8</td>\n      <td>1.7</td>\n      <td>0.3</td>\n      <td>0</td>\n    </tr>\n    <tr>\n      <th>19</th>\n      <td>5.1</td>\n      <td>3.8</td>\n      <td>1.5</td>\n      <td>0.3</td>\n      <td>0</td>\n    </tr>\n    <tr>\n      <th>5</th>\n      <td>5.4</td>\n      <td>3.9</td>\n      <td>1.7</td>\n      <td>0.4</td>\n      <td>0</td>\n    </tr>\n    <tr>\n      <th>16</th>\n      <td>5.4</td>\n      <td>3.9</td>\n      <td>1.3</td>\n      <td>0.4</td>\n      <td>0</td>\n    </tr>\n    <tr>\n      <th>14</th>\n      <td>5.8</td>\n      <td>4.0</td>\n      <td>1.2</td>\n      <td>0.2</td>\n      <td>0</td>\n    </tr>\n    <tr>\n      <th>32</th>\n      <td>5.2</td>\n      <td>4.1</td>\n      <td>1.5</td>\n      <td>0.1</td>\n      <td>0</td>\n    </tr>\n    <tr>\n      <th>33</th>\n      <td>5.5</td>\n      <td>4.2</td>\n      <td>1.4</td>\n      <td>0.2</td>\n      <td>0</td>\n    </tr>\n    <tr>\n      <th>15</th>\n      <td>5.7</td>\n      <td>4.4</td>\n      <td>1.5</td>\n      <td>0.4</td>\n      <td>0</td>\n    </tr>\n  </tbody>\n</table>\n<p>150 rows × 5 columns</p>\n</div>",
            "text/plain": "     sepal length  sepal width  petal length  petal width  class\n60            5.0          2.0           3.5          1.0      1\n62            6.0          2.2           4.0          1.0      1\n119           6.0          2.2           5.0          1.5      2\n68            6.2          2.2           4.5          1.5      1\n41            4.5          2.3           1.3          0.3      0\n53            5.5          2.3           4.0          1.3      1\n93            5.0          2.3           3.3          1.0      1\n87            6.3          2.3           4.4          1.3      1\n81            5.5          2.4           3.7          1.0      1\n80            5.5          2.4           3.8          1.1      1\n57            4.9          2.4           3.3          1.0      1\n72            6.3          2.5           4.9          1.5      1\n146           6.3          2.5           5.0          1.9      2\n98            5.1          2.5           3.0          1.1      1\n113           5.7          2.5           5.0          2.0      2\n108           6.7          2.5           5.8          1.8      2\n69            5.6          2.5           3.9          1.1      1\n89            5.5          2.5           4.0          1.3      1\n106           4.9          2.5           4.5          1.7      2\n92            5.8          2.6           4.0          1.2      1\n79            5.7          2.6           3.5          1.0      1\n90            5.5          2.6           4.4          1.2      1\n118           7.7          2.6           6.9          2.3      2\n134           6.1          2.6           5.6          1.4      2\n101           5.8          2.7           5.1          1.9      2\n94            5.6          2.7           4.2          1.3      1\n59            5.2          2.7           3.9          1.4      1\n111           6.4          2.7           5.3          1.9      2\n82            5.8          2.7           3.9          1.2      1\n67            5.8          2.7           4.1          1.0      1\n..            ...          ...           ...          ...    ...\n85            6.0          3.4           4.5          1.6      1\n39            5.1          3.4           1.5          0.2      0\n31            5.4          3.4           1.5          0.4      0\n20            5.4          3.4           1.7          0.2      0\n148           6.2          3.4           5.4          2.3      2\n26            5.0          3.4           1.6          0.4      0\n43            5.0          3.5           1.6          0.6      0\n40            5.0          3.5           1.3          0.3      0\n36            5.5          3.5           1.3          0.2      0\n27            5.2          3.5           1.5          0.2      0\n0             5.1          3.5           1.4          0.2      0\n17            5.1          3.5           1.4          0.3      0\n22            4.6          3.6           1.0          0.2      0\n109           7.2          3.6           6.1          2.5      2\n4             5.0          3.6           1.4          0.2      0\n10            5.4          3.7           1.5          0.2      0\n48            5.3          3.7           1.5          0.2      0\n21            5.1          3.7           1.5          0.4      0\n131           7.9          3.8           6.4          2.0      2\n117           7.7          3.8           6.7          2.2      2\n46            5.1          3.8           1.6          0.2      0\n44            5.1          3.8           1.9          0.4      0\n18            5.7          3.8           1.7          0.3      0\n19            5.1          3.8           1.5          0.3      0\n5             5.4          3.9           1.7          0.4      0\n16            5.4          3.9           1.3          0.4      0\n14            5.8          4.0           1.2          0.2      0\n32            5.2          4.1           1.5          0.1      0\n33            5.5          4.2           1.4          0.2      0\n15            5.7          4.4           1.5          0.4      0\n\n[150 rows x 5 columns]"
          },
          "execution_count": 77,
          "metadata": {},
          "output_type": "execute_result"
        }
      ]
    },
    {
      "metadata": {
        "trusted": true,
        "_uuid": "986d94fa80785355812f289b5df30ef91dde0778"
      },
      "cell_type": "code",
      "source": "#selecting certain rows\niris_dataframe_new[1:10]",
      "execution_count": 78,
      "outputs": [
        {
          "data": {
            "text/html": "<div>\n<style>\n    .dataframe thead tr:only-child th {\n        text-align: right;\n    }\n\n    .dataframe thead th {\n        text-align: left;\n    }\n\n    .dataframe tbody tr th {\n        vertical-align: top;\n    }\n</style>\n<table border=\"1\" class=\"dataframe\">\n  <thead>\n    <tr style=\"text-align: right;\">\n      <th></th>\n      <th>sepal length</th>\n      <th>sepal width</th>\n      <th>petal length</th>\n      <th>petal width</th>\n      <th>class</th>\n    </tr>\n  </thead>\n  <tbody>\n    <tr>\n      <th>1</th>\n      <td>4.9</td>\n      <td>3.0</td>\n      <td>1.4</td>\n      <td>0.2</td>\n      <td>0</td>\n    </tr>\n    <tr>\n      <th>2</th>\n      <td>4.7</td>\n      <td>3.2</td>\n      <td>1.3</td>\n      <td>0.2</td>\n      <td>0</td>\n    </tr>\n    <tr>\n      <th>3</th>\n      <td>4.6</td>\n      <td>3.1</td>\n      <td>1.5</td>\n      <td>0.2</td>\n      <td>0</td>\n    </tr>\n    <tr>\n      <th>4</th>\n      <td>5.0</td>\n      <td>3.6</td>\n      <td>1.4</td>\n      <td>0.2</td>\n      <td>0</td>\n    </tr>\n    <tr>\n      <th>5</th>\n      <td>5.4</td>\n      <td>3.9</td>\n      <td>1.7</td>\n      <td>0.4</td>\n      <td>0</td>\n    </tr>\n    <tr>\n      <th>6</th>\n      <td>4.6</td>\n      <td>3.4</td>\n      <td>1.4</td>\n      <td>0.3</td>\n      <td>0</td>\n    </tr>\n    <tr>\n      <th>7</th>\n      <td>5.0</td>\n      <td>3.4</td>\n      <td>1.5</td>\n      <td>0.2</td>\n      <td>0</td>\n    </tr>\n    <tr>\n      <th>8</th>\n      <td>4.4</td>\n      <td>2.9</td>\n      <td>1.4</td>\n      <td>0.2</td>\n      <td>0</td>\n    </tr>\n    <tr>\n      <th>9</th>\n      <td>4.9</td>\n      <td>3.1</td>\n      <td>1.5</td>\n      <td>0.1</td>\n      <td>0</td>\n    </tr>\n  </tbody>\n</table>\n</div>",
            "text/plain": "   sepal length  sepal width  petal length  petal width  class\n1           4.9          3.0           1.4          0.2      0\n2           4.7          3.2           1.3          0.2      0\n3           4.6          3.1           1.5          0.2      0\n4           5.0          3.6           1.4          0.2      0\n5           5.4          3.9           1.7          0.4      0\n6           4.6          3.4           1.4          0.3      0\n7           5.0          3.4           1.5          0.2      0\n8           4.4          2.9           1.4          0.2      0\n9           4.9          3.1           1.5          0.1      0"
          },
          "execution_count": 78,
          "metadata": {},
          "output_type": "execute_result"
        }
      ]
    },
    {
      "metadata": {
        "trusted": true,
        "_uuid": "e889b363a04257f9d6bdd6c57b76d0f3b6b8a5e9"
      },
      "cell_type": "code",
      "source": "#selection by labels\niris_dataframe_new.loc[1:10, ['sepal length', 'petal length']]",
      "execution_count": 84,
      "outputs": [
        {
          "data": {
            "text/html": "<div>\n<style>\n    .dataframe thead tr:only-child th {\n        text-align: right;\n    }\n\n    .dataframe thead th {\n        text-align: left;\n    }\n\n    .dataframe tbody tr th {\n        vertical-align: top;\n    }\n</style>\n<table border=\"1\" class=\"dataframe\">\n  <thead>\n    <tr style=\"text-align: right;\">\n      <th></th>\n      <th>sepal length</th>\n      <th>petal length</th>\n    </tr>\n  </thead>\n  <tbody>\n    <tr>\n      <th>1</th>\n      <td>4.9</td>\n      <td>1.4</td>\n    </tr>\n    <tr>\n      <th>2</th>\n      <td>4.7</td>\n      <td>1.3</td>\n    </tr>\n    <tr>\n      <th>3</th>\n      <td>4.6</td>\n      <td>1.5</td>\n    </tr>\n    <tr>\n      <th>4</th>\n      <td>5.0</td>\n      <td>1.4</td>\n    </tr>\n    <tr>\n      <th>5</th>\n      <td>5.4</td>\n      <td>1.7</td>\n    </tr>\n    <tr>\n      <th>6</th>\n      <td>4.6</td>\n      <td>1.4</td>\n    </tr>\n    <tr>\n      <th>7</th>\n      <td>5.0</td>\n      <td>1.5</td>\n    </tr>\n    <tr>\n      <th>8</th>\n      <td>4.4</td>\n      <td>1.4</td>\n    </tr>\n    <tr>\n      <th>9</th>\n      <td>4.9</td>\n      <td>1.5</td>\n    </tr>\n    <tr>\n      <th>10</th>\n      <td>5.4</td>\n      <td>1.5</td>\n    </tr>\n  </tbody>\n</table>\n</div>",
            "text/plain": "    sepal length  petal length\n1            4.9           1.4\n2            4.7           1.3\n3            4.6           1.5\n4            5.0           1.4\n5            5.4           1.7\n6            4.6           1.4\n7            5.0           1.5\n8            4.4           1.4\n9            4.9           1.5\n10           5.4           1.5"
          },
          "execution_count": 84,
          "metadata": {},
          "output_type": "execute_result"
        }
      ]
    },
    {
      "metadata": {
        "trusted": true,
        "_uuid": "cf55fa94e4228c46a53b3aea27944f89898f97a3"
      },
      "cell_type": "code",
      "source": "#selection by locations\niris_dataframe_new.iloc[1:10, [0,2]]",
      "execution_count": 85,
      "outputs": [
        {
          "data": {
            "text/html": "<div>\n<style>\n    .dataframe thead tr:only-child th {\n        text-align: right;\n    }\n\n    .dataframe thead th {\n        text-align: left;\n    }\n\n    .dataframe tbody tr th {\n        vertical-align: top;\n    }\n</style>\n<table border=\"1\" class=\"dataframe\">\n  <thead>\n    <tr style=\"text-align: right;\">\n      <th></th>\n      <th>sepal length</th>\n      <th>petal length</th>\n    </tr>\n  </thead>\n  <tbody>\n    <tr>\n      <th>1</th>\n      <td>4.9</td>\n      <td>1.4</td>\n    </tr>\n    <tr>\n      <th>2</th>\n      <td>4.7</td>\n      <td>1.3</td>\n    </tr>\n    <tr>\n      <th>3</th>\n      <td>4.6</td>\n      <td>1.5</td>\n    </tr>\n    <tr>\n      <th>4</th>\n      <td>5.0</td>\n      <td>1.4</td>\n    </tr>\n    <tr>\n      <th>5</th>\n      <td>5.4</td>\n      <td>1.7</td>\n    </tr>\n    <tr>\n      <th>6</th>\n      <td>4.6</td>\n      <td>1.4</td>\n    </tr>\n    <tr>\n      <th>7</th>\n      <td>5.0</td>\n      <td>1.5</td>\n    </tr>\n    <tr>\n      <th>8</th>\n      <td>4.4</td>\n      <td>1.4</td>\n    </tr>\n    <tr>\n      <th>9</th>\n      <td>4.9</td>\n      <td>1.5</td>\n    </tr>\n  </tbody>\n</table>\n</div>",
            "text/plain": "   sepal length  petal length\n1           4.9           1.4\n2           4.7           1.3\n3           4.6           1.5\n4           5.0           1.4\n5           5.4           1.7\n6           4.6           1.4\n7           5.0           1.5\n8           4.4           1.4\n9           4.9           1.5"
          },
          "execution_count": 85,
          "metadata": {},
          "output_type": "execute_result"
        }
      ]
    },
    {
      "metadata": {
        "trusted": true,
        "_uuid": "8ac73f7f0ac2af99908aafc833c9ecaa309a2df4"
      },
      "cell_type": "code",
      "source": "#masking by a single column values\niris_dataframe_new[iris_dataframe_new['sepal length'] > 7]",
      "execution_count": 88,
      "outputs": [
        {
          "data": {
            "text/html": "<div>\n<style>\n    .dataframe thead tr:only-child th {\n        text-align: right;\n    }\n\n    .dataframe thead th {\n        text-align: left;\n    }\n\n    .dataframe tbody tr th {\n        vertical-align: top;\n    }\n</style>\n<table border=\"1\" class=\"dataframe\">\n  <thead>\n    <tr style=\"text-align: right;\">\n      <th></th>\n      <th>sepal length</th>\n      <th>sepal width</th>\n      <th>petal length</th>\n      <th>petal width</th>\n      <th>class</th>\n    </tr>\n  </thead>\n  <tbody>\n    <tr>\n      <th>102</th>\n      <td>7.1</td>\n      <td>3.0</td>\n      <td>5.9</td>\n      <td>2.1</td>\n      <td>2</td>\n    </tr>\n    <tr>\n      <th>105</th>\n      <td>7.6</td>\n      <td>3.0</td>\n      <td>6.6</td>\n      <td>2.1</td>\n      <td>2</td>\n    </tr>\n    <tr>\n      <th>107</th>\n      <td>7.3</td>\n      <td>2.9</td>\n      <td>6.3</td>\n      <td>1.8</td>\n      <td>2</td>\n    </tr>\n    <tr>\n      <th>109</th>\n      <td>7.2</td>\n      <td>3.6</td>\n      <td>6.1</td>\n      <td>2.5</td>\n      <td>2</td>\n    </tr>\n    <tr>\n      <th>117</th>\n      <td>7.7</td>\n      <td>3.8</td>\n      <td>6.7</td>\n      <td>2.2</td>\n      <td>2</td>\n    </tr>\n    <tr>\n      <th>118</th>\n      <td>7.7</td>\n      <td>2.6</td>\n      <td>6.9</td>\n      <td>2.3</td>\n      <td>2</td>\n    </tr>\n    <tr>\n      <th>122</th>\n      <td>7.7</td>\n      <td>2.8</td>\n      <td>6.7</td>\n      <td>2.0</td>\n      <td>2</td>\n    </tr>\n    <tr>\n      <th>125</th>\n      <td>7.2</td>\n      <td>3.2</td>\n      <td>6.0</td>\n      <td>1.8</td>\n      <td>2</td>\n    </tr>\n    <tr>\n      <th>129</th>\n      <td>7.2</td>\n      <td>3.0</td>\n      <td>5.8</td>\n      <td>1.6</td>\n      <td>2</td>\n    </tr>\n    <tr>\n      <th>130</th>\n      <td>7.4</td>\n      <td>2.8</td>\n      <td>6.1</td>\n      <td>1.9</td>\n      <td>2</td>\n    </tr>\n    <tr>\n      <th>131</th>\n      <td>7.9</td>\n      <td>3.8</td>\n      <td>6.4</td>\n      <td>2.0</td>\n      <td>2</td>\n    </tr>\n    <tr>\n      <th>135</th>\n      <td>7.7</td>\n      <td>3.0</td>\n      <td>6.1</td>\n      <td>2.3</td>\n      <td>2</td>\n    </tr>\n  </tbody>\n</table>\n</div>",
            "text/plain": "     sepal length  sepal width  petal length  petal width  class\n102           7.1          3.0           5.9          2.1      2\n105           7.6          3.0           6.6          2.1      2\n107           7.3          2.9           6.3          1.8      2\n109           7.2          3.6           6.1          2.5      2\n117           7.7          3.8           6.7          2.2      2\n118           7.7          2.6           6.9          2.3      2\n122           7.7          2.8           6.7          2.0      2\n125           7.2          3.2           6.0          1.8      2\n129           7.2          3.0           5.8          1.6      2\n130           7.4          2.8           6.1          1.9      2\n131           7.9          3.8           6.4          2.0      2\n135           7.7          3.0           6.1          2.3      2"
          },
          "execution_count": 88,
          "metadata": {},
          "output_type": "execute_result"
        }
      ]
    },
    {
      "metadata": {
        "trusted": true,
        "_uuid": "029ff51ea48d906707e9657e789d941074cc6b6b"
      },
      "cell_type": "code",
      "source": "#filtering the dataframe using isin function \niris_dataframe_new[iris_dataframe_new['sepal length'].isin([7.2])]",
      "execution_count": 95,
      "outputs": [
        {
          "data": {
            "text/html": "<div>\n<style>\n    .dataframe thead tr:only-child th {\n        text-align: right;\n    }\n\n    .dataframe thead th {\n        text-align: left;\n    }\n\n    .dataframe tbody tr th {\n        vertical-align: top;\n    }\n</style>\n<table border=\"1\" class=\"dataframe\">\n  <thead>\n    <tr style=\"text-align: right;\">\n      <th></th>\n      <th>sepal length</th>\n      <th>sepal width</th>\n      <th>petal length</th>\n      <th>petal width</th>\n      <th>class</th>\n    </tr>\n  </thead>\n  <tbody>\n    <tr>\n      <th>109</th>\n      <td>7.2</td>\n      <td>3.6</td>\n      <td>6.1</td>\n      <td>2.5</td>\n      <td>2</td>\n    </tr>\n    <tr>\n      <th>125</th>\n      <td>7.2</td>\n      <td>3.2</td>\n      <td>6.0</td>\n      <td>1.8</td>\n      <td>2</td>\n    </tr>\n    <tr>\n      <th>129</th>\n      <td>7.2</td>\n      <td>3.0</td>\n      <td>5.8</td>\n      <td>1.6</td>\n      <td>2</td>\n    </tr>\n  </tbody>\n</table>\n</div>",
            "text/plain": "     sepal length  sepal width  petal length  petal width  class\n109           7.2          3.6           6.1          2.5      2\n125           7.2          3.2           6.0          1.8      2\n129           7.2          3.0           5.8          1.6      2"
          },
          "execution_count": 95,
          "metadata": {},
          "output_type": "execute_result"
        }
      ]
    },
    {
      "metadata": {
        "trusted": true,
        "_uuid": "c2e6df083f8b096db05947fc609ff32f7b0f8a75"
      },
      "cell_type": "code",
      "source": "#applying functions\niris_dataframe_new['sepal length'].apply(lambda x : x**2).head()",
      "execution_count": 97,
      "outputs": [
        {
          "data": {
            "text/plain": "0    26.01\n1    24.01\n2    22.09\n3    21.16\n4    25.00\nName: sepal length, dtype: float64"
          },
          "execution_count": 97,
          "metadata": {},
          "output_type": "execute_result"
        }
      ]
    },
    {
      "metadata": {
        "trusted": true,
        "_uuid": "8cee9caba44f8202225c3ef38e4bca7030ebf240"
      },
      "cell_type": "code",
      "source": "iris_dataframe_new.apply(lambda x : x**2).head()",
      "execution_count": 99,
      "outputs": [
        {
          "data": {
            "text/html": "<div>\n<style>\n    .dataframe thead tr:only-child th {\n        text-align: right;\n    }\n\n    .dataframe thead th {\n        text-align: left;\n    }\n\n    .dataframe tbody tr th {\n        vertical-align: top;\n    }\n</style>\n<table border=\"1\" class=\"dataframe\">\n  <thead>\n    <tr style=\"text-align: right;\">\n      <th></th>\n      <th>sepal length</th>\n      <th>sepal width</th>\n      <th>petal length</th>\n      <th>petal width</th>\n      <th>class</th>\n    </tr>\n  </thead>\n  <tbody>\n    <tr>\n      <th>0</th>\n      <td>26.01</td>\n      <td>12.25</td>\n      <td>1.96</td>\n      <td>0.04</td>\n      <td>0</td>\n    </tr>\n    <tr>\n      <th>1</th>\n      <td>24.01</td>\n      <td>9.00</td>\n      <td>1.96</td>\n      <td>0.04</td>\n      <td>0</td>\n    </tr>\n    <tr>\n      <th>2</th>\n      <td>22.09</td>\n      <td>10.24</td>\n      <td>1.69</td>\n      <td>0.04</td>\n      <td>0</td>\n    </tr>\n    <tr>\n      <th>3</th>\n      <td>21.16</td>\n      <td>9.61</td>\n      <td>2.25</td>\n      <td>0.04</td>\n      <td>0</td>\n    </tr>\n    <tr>\n      <th>4</th>\n      <td>25.00</td>\n      <td>12.96</td>\n      <td>1.96</td>\n      <td>0.04</td>\n      <td>0</td>\n    </tr>\n  </tbody>\n</table>\n</div>",
            "text/plain": "   sepal length  sepal width  petal length  petal width  class\n0         26.01        12.25          1.96         0.04      0\n1         24.01         9.00          1.96         0.04      0\n2         22.09        10.24          1.69         0.04      0\n3         21.16         9.61          2.25         0.04      0\n4         25.00        12.96          1.96         0.04      0"
          },
          "execution_count": 99,
          "metadata": {},
          "output_type": "execute_result"
        }
      ]
    },
    {
      "metadata": {
        "collapsed": true,
        "trusted": true,
        "_uuid": "ab3ddf66a2ef922312ff14e028c6e3b78dd0cadd"
      },
      "cell_type": "code",
      "source": "",
      "execution_count": null,
      "outputs": []
    }
  ],
  "metadata": {
    "kernelspec": {
      "display_name": "Python 3",
      "language": "python",
      "name": "python3"
    },
    "language_info": {
      "name": "python",
      "version": "3.6.4",
      "mimetype": "text/x-python",
      "codemirror_mode": {
        "name": "ipython",
        "version": 3
      },
      "pygments_lexer": "ipython3",
      "nbconvert_exporter": "python",
      "file_extension": ".py"
    }
  },
  "nbformat": 4,
  "nbformat_minor": 1
}